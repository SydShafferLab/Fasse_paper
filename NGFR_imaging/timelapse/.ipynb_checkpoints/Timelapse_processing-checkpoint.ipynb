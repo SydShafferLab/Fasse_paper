{
 "cells": [
  {
   "cell_type": "code",
   "execution_count": 1,
   "id": "9854d12b",
   "metadata": {},
   "outputs": [],
   "source": [
    "# Load in the needed packages\n",
    "import cv2\n",
    "import numpy as np\n",
    "from skimage import measure"
   ]
  },
  {
   "cell_type": "code",
   "execution_count": 2,
   "id": "15d10b8d",
   "metadata": {},
   "outputs": [],
   "source": [
    "# Load nuclei and expression images\n",
    "nuclei_path = \"/Users/dylanschaff/Library/CloudStorage/GoogleDrive-dyschaff@sydshafferlab.com/My Drive/White_Shared/cloud/experiment_ids/pw019/incucyte_raw/q3d_red_uncal/red_uncal_A1_1_00d00h00m.png\"\n",
    "ngfr_path = \"/Users/dylanschaff/Library/CloudStorage/GoogleDrive-dyschaff@sydshafferlab.com/My Drive/White_Shared/cloud/experiment_ids/pw019/incucyte_raw/q3d_green_uncal/green_uncal_A1_1_00d00h00m.png\"\n",
    "\n",
    "nuclei_channel = cv2.imread(nuclei_path, cv2.IMREAD_UNCHANGED)  # Load as-is without converting to grayscale\n",
    "ngfr_channel = cv2.imread(ngfr_path, cv2.IMREAD_UNCHANGED)\n"
   ]
  },
  {
   "cell_type": "code",
   "execution_count": 3,
   "id": "30fe9505",
   "metadata": {},
   "outputs": [],
   "source": [
    "# Nuclei segmentation\n",
    "_, nuclei_threshold = cv2.threshold(nuclei_channel, 0, 65535, cv2.THRESH_BINARY + cv2.THRESH_OTSU)\n",
    "nuclei_mask = cv2.morphologyEx(nuclei_threshold, cv2.MORPH_CLOSE, cv2.getStructuringElement(cv2.MORPH_ELLIPSE, (5, 5)))\n",
    "\n",
    "# Label nuclei\n",
    "labeled_nuclei, num_nuclei = measure.label(nuclei_mask, connectivity=2, return_num=True)\n"
   ]
  },
  {
   "cell_type": "code",
   "execution_count": 4,
   "id": "7f040d75",
   "metadata": {},
   "outputs": [],
   "source": [
    "# Convert ngfr_channel to a 3-channel image for overlay\n",
    "ngfr_overlay = cv2.cvtColor(ngfr_channel, cv2.COLOR_GRAY2BGR)\n",
    "\n",
    "# Loop through each nucleus and overlay the mask color on the ngfr overlay\n",
    "for label in range(1, num_nuclei + 1):\n",
    "    nucleus_region = (labeled_nuclei == label)\n",
    "    \n",
    "    # Set the mask region color (e.g., blue)\n",
    "    ngfr_overlay[nucleus_region, :] = [65535, 0, 0]  # Blue color in 16-bit depth\n",
    "\n",
    "# Display or save the overlay image\n",
    "cv2.imshow(\"Overlay\", ngfr_overlay)\n",
    "cv2.waitKey(0)\n",
    "cv2.destroyAllWindows()\n",
    "cv2.waitKey(1)"
   ]
  },
  {
   "cell_type": "code",
   "execution_count": 5,
   "id": "655e5ba7",
   "metadata": {},
   "outputs": [
    {
     "data": {
      "text/plain": [
       "20"
      ]
     },
     "execution_count": 5,
     "metadata": {},
     "output_type": "execute_result"
    }
   ],
   "source": [
    "num_nuclei"
   ]
  },
  {
   "cell_type": "code",
   "execution_count": null,
   "id": "2a9cc5b8",
   "metadata": {},
   "outputs": [],
   "source": []
  }
 ],
 "metadata": {
  "kernelspec": {
   "display_name": "NGFR_timelapse",
   "language": "python",
   "name": "ngfr_timelapse"
  },
  "language_info": {
   "codemirror_mode": {
    "name": "ipython",
    "version": 3
   },
   "file_extension": ".py",
   "mimetype": "text/x-python",
   "name": "python",
   "nbconvert_exporter": "python",
   "pygments_lexer": "ipython3",
   "version": "3.9.17"
  }
 },
 "nbformat": 4,
 "nbformat_minor": 5
}
