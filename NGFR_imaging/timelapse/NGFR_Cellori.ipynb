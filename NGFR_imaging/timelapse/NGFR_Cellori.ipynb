{
 "cells": [
  {
   "cell_type": "code",
   "execution_count": 1,
   "id": "0cd8061c",
   "metadata": {},
   "outputs": [],
   "source": [
    "# Load the needed paths\n",
    "from pathlib import Path\n",
    "import re\n",
    "from cellori import Cellori, utils\n",
    "import numpy as np\n",
    "import pandas as pd\n",
    "import cv2\n",
    "from IPython.display import Image, display\n",
    "from matplotlib import pyplot as plt\n",
    "from scipy import ndimage\n",
    "import glob\n",
    "import csv\n",
    "%matplotlib inline  "
   ]
  },
  {
   "cell_type": "code",
   "execution_count": null,
   "id": "1b78fcbd",
   "metadata": {},
   "outputs": [],
   "source": [
    "### For individual image, load the matching images, make nuclei masks, and measure expression ---------------------\n",
    "\n",
    "# Get all of the paths for nuclei (red) channels\n",
    "image_dir = Path('/Users/dylanschaff/Library/CloudStorage/GoogleDrive-dyschaff@sydshafferlab.com/My Drive/White_Shared/cloud/experiment_ids/pw019/q3d_files') # Path to all images\n",
    "nuclei_paths = sorted(list(image_dir.glob('*/*red*.tif')))\n",
    "\n",
    "# Make the dataframe for the outputs\n",
    "output_df = pd.DataFrame(columns = ['Mean_NGFR','Cell_num','Well_num','FOV','Time','Nuc_file','NGFR_file'])\n",
    "error_images = []\n",
    "\n",
    "# Run analysis in loop\n",
    "for i in nuclei_paths[0:5]:\n",
    "\n",
    "    # Load the correct paths\n",
    "    nuclei_path = str(i)\n",
    "    ngfr_path = nuclei_path.replace('/red', '/green') \n",
    "    try:\n",
    "\n",
    "        # Run Cellori to find masks for nuclei\n",
    "        masks, _, _ = Cellori(nuclei_path).segment(segmentation_mode='combined',nuclei_diameter=22)\n",
    "\n",
    "        # Load in the ngfr image\n",
    "        ngfr_image = cv2.imread(ngfr_path, cv2.IMREAD_UNCHANGED)\n",
    "\n",
    "        # Expand the masks by a number of pixels and measure ngfr expression\n",
    "        dil_struct = np.ones((15,15), dtype = np.uint8)\n",
    "        expanded_masks = np.zeros_like(masks)\n",
    "        mean_intensities = []\n",
    "        for mask_num in np.unique(masks):\n",
    "            if mask_num == 0:\n",
    "                continue\n",
    "            mask = masks == mask_num\n",
    "            expanded_mask = ndimage.binary_dilation(mask, structure = dil_struct)\n",
    "            expanded_masks[expanded_mask] = mask_num\n",
    "            masked_pixels = ngfr_image[mask]\n",
    "            mean_intensity = np.mean(masked_pixels)\n",
    "            mean_intensities.append(mean_intensity)\n",
    "\n",
    "        temp_df = pd.DataFrame(data = {'Mean_NGFR': mean_intensities,\n",
    "                                   'Cell_num': np.unique(masks)[np.unique(masks) > 0],\n",
    "                                   'Well_num': [nuclei_path.split('/')[-2]]*len(mean_intensities),\n",
    "                                   'FOV': [nuclei_path.split('/')[-1].split('_')[0][-3:]]*len(mean_intensities),\n",
    "                                   'Time': [nuclei_path.split('/')[-1].split('_')[1][:6]]*len(mean_intensities),\n",
    "                                   'Nuc_file': [nuclei_path.split('/')[-1]]*len(mean_intensities),\n",
    "                                   'NGFR_file': [ngfr_path.split('/')[-1]]*len(mean_intensities)})\n",
    "\n",
    "        output_df = pd.concat([output_df, temp_df])\n",
    "    except:\n",
    "        error_images.append(nuclei_path.split('/')[-1])\n",
    "        pass\n",
    "        \n",
    "\n",
    "# Write to CSVs    \n",
    "outpath = Path(str(image_dir)+'/test_output.csv')\n",
    "output_df.to_csv(outpath)\n",
    "\n",
    "outpath_errors = Path(str(image_dir)+'/test_error_images.csv')\n",
    "pd.DataFrame(error_images).to_csv(outpath_errors, header = False)"
   ]
  },
  {
   "cell_type": "code",
   "execution_count": null,
   "id": "6387c72f",
   "metadata": {},
   "outputs": [],
   "source": [
    "# Code for testing background normalization"
   ]
  },
  {
   "cell_type": "code",
   "execution_count": 13,
   "id": "dba5b903",
   "metadata": {},
   "outputs": [],
   "source": [
    "### For individual image, load the matching images, make nuclei masks, and measure expression ---------------------\n",
    "\n",
    "# Get all of the paths for nuclei (red) channels\n",
    "image_dir = Path('/Users/dylanschaff/Library/CloudStorage/GoogleDrive-dyschaff@sydshafferlab.com/My Drive/White_Shared/cloud/experiment_ids/pw019/q3d_files') # Path to all images\n",
    "nuclei_paths = sorted(list(image_dir.glob('*/*red*.tif')))\n",
    "\n",
    "# Make the dataframe for the outputs\n",
    "output_df = pd.DataFrame(columns = ['Mean_NGFR','Mean_NGFR_Norm','Mean_NGFR_Div','Cell_num','Well_num', 'X_Coord','Y_Coord','FOV','Time','Nuc_file','NGFR_file'])\n",
    "error_images = []\n",
    "\n",
    "# Run analysis in loop\n",
    "for i in nuclei_paths[0:100]:\n",
    "\n",
    "    # Load the correct paths\n",
    "    nuclei_path = str(i)\n",
    "    ngfr_path = nuclei_path.replace('/red', '/green') \n",
    "    try:\n",
    "\n",
    "        # Run Cellori to find masks for nuclei\n",
    "        masks, coords, _ = Cellori(nuclei_path).segment(segmentation_mode='combined',nuclei_diameter=22)\n",
    "\n",
    "        # Load in the ngfr image\n",
    "        ngfr_image = cv2.imread(ngfr_path, cv2.IMREAD_UNCHANGED)\n",
    "        \n",
    "        # Define the standard deviation for Gaussian blurring\n",
    "        sigma = 50\n",
    "\n",
    "        # Blur the matching image using Gaussian filter\n",
    "        blurred_image = ndimage.gaussian_filter(ngfr_image, sigma=sigma)\n",
    "        \n",
    "        # Subtract median background\n",
    "        ngfr_background_sub = ngfr_image-np.median(ngfr_image)\n",
    "        \n",
    "        # Divide median background\n",
    "        ngfr_background_div = ngfr_image/np.median(ngfr_image)\n",
    "\n",
    "        # Expand the masks by a number of pixels and measure ngfr expression\n",
    "        dil_struct = np.ones((15,15), dtype = np.uint8)\n",
    "        expanded_masks = np.zeros_like(masks)\n",
    "        mean_intensities = []\n",
    "        mean_norm_intensities = []\n",
    "        mean_div_intensities = []\n",
    "        coords_list_X =[]\n",
    "        coords_list_Y =[]\n",
    "        for mask_num in np.unique(masks):\n",
    "            if mask_num == 0:\n",
    "                continue\n",
    "            mask = masks == mask_num\n",
    "            expanded_mask = ndimage.binary_dilation(mask, structure = dil_struct)\n",
    "            expanded_masks[expanded_mask] = mask_num\n",
    "            masked_pixels = ngfr_image[expanded_mask]\n",
    "            mean_intensity = np.mean(masked_pixels)\n",
    "            mean_intensities.append(mean_intensity)\n",
    "            \n",
    "            masked_pixels_norm = ngfr_background_sub[expanded_mask]\n",
    "            mean_intensity_norm = np.mean(masked_pixels_norm)\n",
    "            mean_norm_intensities.append(mean_intensity_norm)\n",
    "            \n",
    "            masked_pixels_div = ngfr_background_div[expanded_mask]\n",
    "            mean_intensity_div = np.mean(masked_pixels_div)\n",
    "            mean_div_intensities.append(mean_intensity_div)\n",
    "            \n",
    "            coords_list_X.append(coords[mask_num-1][1])\n",
    "            coords_list_Y.append(coords[mask_num-1][0])\n",
    "\n",
    "        temp_df = pd.DataFrame(data = {'Mean_NGFR': mean_intensities,\n",
    "                                       'Mean_NGFR_Norm': mean_norm_intensities, \n",
    "                                       'Mean_NGFR_Div': mean_div_intensities,\n",
    "                                   'Cell_num': np.unique(masks)[np.unique(masks) > 0],\n",
    "                                   'Well_num': [nuclei_path.split('/')[-2]]*len(mean_intensities),\n",
    "                                   'X_Coord' : coords_list_X,\n",
    "                                   'Y_Coord' : coords_list_Y,\n",
    "                                   'FOV': [nuclei_path.split('/')[-1].split('_')[0][-3:]]*len(mean_intensities),\n",
    "                                   'Time': [nuclei_path.split('/')[-1].split('_')[1][:6]]*len(mean_intensities),\n",
    "                                   'Nuc_file': [nuclei_path.split('/')[-1]]*len(mean_intensities),\n",
    "                                   'NGFR_file': [ngfr_path.split('/')[-1]]*len(mean_intensities)})\n",
    "        \n",
    "\n",
    "        output_df = pd.concat([output_df, temp_df])\n",
    "    except:\n",
    "        error_images.append(nuclei_path.split('/')[-1])\n",
    "        pass\n",
    "        \n",
    "\n",
    "# Write to CSVs    \n",
    "outpath = Path(str(image_dir)+'/test_output.csv')\n",
    "output_df.to_csv(outpath)\n",
    "\n",
    "outpath_errors = Path(str(image_dir)+'/test_error_images.csv')\n",
    "pd.DataFrame(error_images).to_csv(outpath_errors, header = False)\n",
    "\n"
   ]
  },
  {
   "cell_type": "code",
   "execution_count": null,
   "id": "d2ae435e",
   "metadata": {},
   "outputs": [],
   "source": [
    "        # Plot the original matching image and the blurred image side by side\n",
    "        plt.figure(figsize=(10, 5))\n",
    "\n",
    "        plt.subplot(2, 3, 1)\n",
    "        plt.imshow(ngfr_image, cmap='gray')\n",
    "        plt.title('Original Matching Image')\n",
    "\n",
    "        plt.subplot(2, 3, 2)\n",
    "        plt.imshow(blurred_image, cmap='gray')\n",
    "        plt.title('Blurred Image')\n",
    "        \n",
    "        plt.subplot(2, 3, 3)\n",
    "        plt.imshow(ngfr_image-blurred_image, cmap='gray')\n",
    "        plt.title('ngfr_image - Blurred Image')\n",
    "        \n",
    "        plt.subplot(2, 3, 4)\n",
    "        plt.imshow(ngfr_image/blurred_image, cmap='gray')\n",
    "        plt.title('ngfr_image / Blurred Image')\n",
    "        \n",
    "        plt.subplot(2, 3, 5)\n",
    "        plt.imshow(ngfr_image-np.median(ngfr_image), cmap='gray')\n",
    "        plt.title('ngfr_image - median')\n",
    "        \n",
    "        plt.subplot(2, 3, 6)\n",
    "        plt.imshow(ngfr_image/np.median(ngfr_image), cmap='gray')\n",
    "        plt.title('ngfr_image / median')\n",
    "\n",
    "        plt.tight_layout()\n",
    "        plt.show()"
   ]
  },
  {
   "cell_type": "code",
   "execution_count": null,
   "id": "e94e850e",
   "metadata": {},
   "outputs": [],
   "source": [
    " for mask_num in np.unique(masks):\n",
    "            if mask_num == 0:\n",
    "                continue\n",
    "            mask = masks == mask_num\n",
    "            expanded_mask = ndimage.binary_dilation(mask, structure = dil_struct)\n",
    "            expanded_masks[expanded_mask] = mask_num\n",
    "            masked_pixels = ngfr_image[mask]\n",
    "            mean_intensity = np.mean(masked_pixels)\n",
    "            mean_intensities.append(mean_intensity)\n",
    "            \n",
    "            masked_pixels_norm = ngfr_background_sub[mask]\n",
    "            mean_intensity_norm = np.mean(masked_pixels_norm)\n",
    "            mean_norm_intensities.append(mean_intensity_norm)\n",
    "            \n",
    "            coords_list_X.append(coords[mask_num-2][1])\n",
    "            coords_list_Y.append(coords[mask_num-2][0])\n"
   ]
  },
  {
   "cell_type": "code",
   "execution_count": 4,
   "id": "d1ece9e4",
   "metadata": {},
   "outputs": [
    {
     "data": {
      "text/plain": [
       "array([[  78.99875312,  672.06857855],\n",
       "       [ 182.48271447,  777.05121639],\n",
       "       [ 284.35714286,  636.23636364],\n",
       "       [ 315.79123414,  815.5928489 ],\n",
       "       [ 351.52738337, 1273.53144016],\n",
       "       [ 361.22674419, 1254.80523256],\n",
       "       [ 377.97019868, 1248.55960265],\n",
       "       [ 385.04627249, 1267.32904884],\n",
       "       [ 402.35474006,  589.27522936],\n",
       "       [ 418.13585434,  900.68627451],\n",
       "       [ 441.17662008,  813.64930114],\n",
       "       [ 481.01236264,  568.07554945],\n",
       "       [ 492.49600912,  765.56442417]])"
      ]
     },
     "execution_count": 4,
     "metadata": {},
     "output_type": "execute_result"
    }
   ],
   "source": [
    "coords"
   ]
  },
  {
   "cell_type": "code",
   "execution_count": 6,
   "id": "17f2d636",
   "metadata": {},
   "outputs": [
    {
     "data": {
      "text/plain": [
       "array([ 0,  1,  2,  3,  4,  5,  6,  7,  8,  9, 10, 11, 12, 13])"
      ]
     },
     "execution_count": 6,
     "metadata": {},
     "output_type": "execute_result"
    }
   ],
   "source": [
    "np.unique(masks)"
   ]
  },
  {
   "cell_type": "code",
   "execution_count": 12,
   "id": "be66b918",
   "metadata": {},
   "outputs": [
    {
     "data": {
      "text/plain": [
       "array([492.49600912, 765.56442417])"
      ]
     },
     "execution_count": 12,
     "metadata": {},
     "output_type": "execute_result"
    }
   ],
   "source": [
    "coords[12]"
   ]
  }
 ],
 "metadata": {
  "kernelspec": {
   "display_name": "NGFR_Cellori",
   "language": "python",
   "name": "ngfr_cellori"
  },
  "language_info": {
   "codemirror_mode": {
    "name": "ipython",
    "version": 3
   },
   "file_extension": ".py",
   "mimetype": "text/x-python",
   "name": "python",
   "nbconvert_exporter": "python",
   "pygments_lexer": "ipython3",
   "version": "3.9.17"
  }
 },
 "nbformat": 4,
 "nbformat_minor": 5
}
