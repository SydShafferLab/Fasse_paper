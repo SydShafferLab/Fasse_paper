{
 "cells": [
  {
   "cell_type": "code",
   "execution_count": 1,
   "id": "47512ea2",
   "metadata": {},
   "outputs": [],
   "source": [
    "from PIL import Image, ImageDraw, ImageSequence\n",
    "import numpy as np\n",
    "import matplotlib.pyplot as plt\n",
    "import matplotlib.image as mpimg\n",
    "import glob as glob\n",
    "import os\n",
    "import pandas as pd\n",
    "from skimage import io, filters, morphology\n",
    "import cv2\n",
    "from scipy import ndimage as ndi\n",
    "%matplotlib inline\n",
    "os.chdir('/Users/phoebewhite/Library/CloudStorage/GoogleDrive-phwhite@sas.upenn.edu/.shortcut-targets-by-id/1zSqx3IzXMwt6clUjwyqmlOf4G1K53lvy/Fasse_Shared/AJF_Drive_copy/Experiments/AJF009/2022_01_14_analysis_scripts/2022_05_27_analysis/NGFR_imaging/')"
   ]
  },
  {
   "cell_type": "markdown",
   "id": "a292b16e",
   "metadata": {},
   "source": [
    "inputing and getting median of only the GFP channel of blank images"
   ]
  },
  {
   "cell_type": "code",
   "execution_count": null,
   "id": "48a2b334",
   "metadata": {},
   "outputs": [],
   "source": [
    "Image.MAX_IMAGE_PIXELS = None\n",
    "\n",
    "#blank_files = glob.glob('/Users/phoebewhite/Library/CloudStorage/GoogleDrive-phwhite@sas.upenn.edu/.shortcut-targets-by-id/12tKUWWdMW6Is2j_X0QWarfY8tIR_UEj9/White_Shared/cloud/experiment_ids/pw011/converted/2023_01_10_blank/Plate2023_01_10_pw011_blank_Well1_ChannelDAPI,GFP_Seq0000.tif')\n",
    "blank_files = glob.glob('/Users/phoebewhite/Library/CloudStorage/GoogleDrive-phwhite@sas.upenn.edu/.shortcut-targets-by-id/12tKUWWdMW6Is2j_X0QWarfY8tIR_UEj9/White_Shared/cloud/experiment_ids/pw011/converted/2023_01_10_blank/*.tif')\n",
    "\n",
    "blank_arrays = list()\n",
    "for j in blank_files:\n",
    "    im = Image.open(j)\n",
    "    for i, page in enumerate(ImageSequence.Iterator(im)):\n",
    "        if i == 1:\n",
    "            blank_arrays.append(np.asarray(page))\n",
    "       \n",
    "\n",
    "\n",
    "\n",
    "fig = plt.figure(figsize=(30, 30), dpi=300)\n",
    "for k in range(0,len(blank_arrays)):\n",
    "    ax = fig.add_subplot(5, 2, k+1)\n",
    "    imgplot = plt.imshow(page)\n",
    "    \n",
    "blank_ave = np.median(blank_arrays, axis=0)\n",
    "ax = fig.add_subplot(5, 2, (7,10))\n",
    "imgplot = plt.imshow(blank_ave)\n"
   ]
  },
  {
   "cell_type": "markdown",
   "id": "87ed9b8b",
   "metadata": {},
   "source": [
    "organizing images by well number"
   ]
  },
  {
   "cell_type": "code",
   "execution_count": 36,
   "id": "a7a62174",
   "metadata": {},
   "outputs": [
    {
     "name": "stdout",
     "output_type": "stream",
     "text": [
      "1\n",
      "['/Users/phoebewhite/Library/CloudStorage/GoogleDrive-phwhite@sas.upenn.edu/.shortcut-targets-by-id/12tKUWWdMW6Is2j_X0QWarfY8tIR_UEj9/White_Shared/cloud/experiment_ids/pw011/converted/2022_12_05/Plate2022_12_05_PW011_10x_Well1_ChannelDAPI,GFP_Seq0000.tif', '/Users/phoebewhite/Library/CloudStorage/GoogleDrive-phwhite@sas.upenn.edu/.shortcut-targets-by-id/12tKUWWdMW6Is2j_X0QWarfY8tIR_UEj9/White_Shared/cloud/experiment_ids/pw011/converted/2022_11_17/Plate2022_11_17_Well1_10x_Well1_ChannelDAPI,GFP_Seq0000.tif', '/Users/phoebewhite/Library/CloudStorage/GoogleDrive-phwhite@sas.upenn.edu/.shortcut-targets-by-id/12tKUWWdMW6Is2j_X0QWarfY8tIR_UEj9/White_Shared/cloud/experiment_ids/pw011/converted/2022_11_28/Plate2022_11_28_PW011_Well1_ChannelDAPI,GFP_Seq0000.tif', '/Users/phoebewhite/Library/CloudStorage/GoogleDrive-phwhite@sas.upenn.edu/.shortcut-targets-by-id/12tKUWWdMW6Is2j_X0QWarfY8tIR_UEj9/White_Shared/cloud/experiment_ids/pw011/converted/2022_11_21/Plate2022_11_21_Well1_10x_Well1_ChannelDAPI,GFP_Seq0000.tif', '/Users/phoebewhite/Library/CloudStorage/GoogleDrive-phwhite@sas.upenn.edu/.shortcut-targets-by-id/12tKUWWdMW6Is2j_X0QWarfY8tIR_UEj9/White_Shared/cloud/experiment_ids/pw011/converted/2022_12_12/Plate2022_12_12_pw011_Well1_ChannelDAPI,GFP_Seq0000.tif']\n",
      "2\n",
      "['/Users/phoebewhite/Library/CloudStorage/GoogleDrive-phwhite@sas.upenn.edu/.shortcut-targets-by-id/12tKUWWdMW6Is2j_X0QWarfY8tIR_UEj9/White_Shared/cloud/experiment_ids/pw011/converted/2022_12_05/Plate2022_12_05_PW011_10x_Well2_ChannelDAPI,GFP_Seq0000.tif', '/Users/phoebewhite/Library/CloudStorage/GoogleDrive-phwhite@sas.upenn.edu/.shortcut-targets-by-id/12tKUWWdMW6Is2j_X0QWarfY8tIR_UEj9/White_Shared/cloud/experiment_ids/pw011/converted/2022_11_17/Plate2022_11_17_Well2_10x_Well2_ChannelDAPI,GFP_Seq0000.tif', '/Users/phoebewhite/Library/CloudStorage/GoogleDrive-phwhite@sas.upenn.edu/.shortcut-targets-by-id/12tKUWWdMW6Is2j_X0QWarfY8tIR_UEj9/White_Shared/cloud/experiment_ids/pw011/converted/2022_11_28/Plate2022_11_28_PW011_Well2_ChannelDAPI,GFP_Seq0000.tif', '/Users/phoebewhite/Library/CloudStorage/GoogleDrive-phwhite@sas.upenn.edu/.shortcut-targets-by-id/12tKUWWdMW6Is2j_X0QWarfY8tIR_UEj9/White_Shared/cloud/experiment_ids/pw011/converted/2022_11_21/Plate2022_11_21_Well2_10x_Well2_ChannelDAPI,GFP_Seq0000.tif', '/Users/phoebewhite/Library/CloudStorage/GoogleDrive-phwhite@sas.upenn.edu/.shortcut-targets-by-id/12tKUWWdMW6Is2j_X0QWarfY8tIR_UEj9/White_Shared/cloud/experiment_ids/pw011/converted/2022_12_12/Plate2022_12_12_pw011_Well2_ChannelDAPI,GFP_Seq0000.tif']\n",
      "3\n",
      "['/Users/phoebewhite/Library/CloudStorage/GoogleDrive-phwhite@sas.upenn.edu/.shortcut-targets-by-id/12tKUWWdMW6Is2j_X0QWarfY8tIR_UEj9/White_Shared/cloud/experiment_ids/pw011/converted/2022_12_05/Plate2022_12_05_PW011_10x_Well3_ChannelDAPI,GFP_Seq0000.tif', '/Users/phoebewhite/Library/CloudStorage/GoogleDrive-phwhite@sas.upenn.edu/.shortcut-targets-by-id/12tKUWWdMW6Is2j_X0QWarfY8tIR_UEj9/White_Shared/cloud/experiment_ids/pw011/converted/2022_11_17/Plate2022_11_17_Well3_10x_Well3_ChannelDAPI,GFP_Seq0000.tif', '/Users/phoebewhite/Library/CloudStorage/GoogleDrive-phwhite@sas.upenn.edu/.shortcut-targets-by-id/12tKUWWdMW6Is2j_X0QWarfY8tIR_UEj9/White_Shared/cloud/experiment_ids/pw011/converted/2022_11_28/Plate2022_11_28_PW011_Well3_ChannelDAPI,GFP_Seq0000.tif', '/Users/phoebewhite/Library/CloudStorage/GoogleDrive-phwhite@sas.upenn.edu/.shortcut-targets-by-id/12tKUWWdMW6Is2j_X0QWarfY8tIR_UEj9/White_Shared/cloud/experiment_ids/pw011/converted/2022_11_21/Plate2022_11_21_Well3_10x_Well3_ChannelDAPI,GFP_Seq0000.tif', '/Users/phoebewhite/Library/CloudStorage/GoogleDrive-phwhite@sas.upenn.edu/.shortcut-targets-by-id/12tKUWWdMW6Is2j_X0QWarfY8tIR_UEj9/White_Shared/cloud/experiment_ids/pw011/converted/2022_11_21/Plate2022_11_21_Well3_10x_Well3_ChannelDAPI,GFP_Seq0001.tif', '/Users/phoebewhite/Library/CloudStorage/GoogleDrive-phwhite@sas.upenn.edu/.shortcut-targets-by-id/12tKUWWdMW6Is2j_X0QWarfY8tIR_UEj9/White_Shared/cloud/experiment_ids/pw011/converted/2022_12_12/Plate2022_12_12_pw011_Well3_ChannelDAPI,GFP_Seq0000.tif']\n",
      "4\n",
      "['/Users/phoebewhite/Library/CloudStorage/GoogleDrive-phwhite@sas.upenn.edu/.shortcut-targets-by-id/12tKUWWdMW6Is2j_X0QWarfY8tIR_UEj9/White_Shared/cloud/experiment_ids/pw011/converted/2022_12_05/Plate2022_12_05_PW011_10x_Well4_ChannelDAPI,GFP_Seq0000.tif', '/Users/phoebewhite/Library/CloudStorage/GoogleDrive-phwhite@sas.upenn.edu/.shortcut-targets-by-id/12tKUWWdMW6Is2j_X0QWarfY8tIR_UEj9/White_Shared/cloud/experiment_ids/pw011/converted/2022_11_17/Plate2022_11_17_Well4_10x_Well4_ChannelDAPI,GFP_Seq0000.tif', '/Users/phoebewhite/Library/CloudStorage/GoogleDrive-phwhite@sas.upenn.edu/.shortcut-targets-by-id/12tKUWWdMW6Is2j_X0QWarfY8tIR_UEj9/White_Shared/cloud/experiment_ids/pw011/converted/2022_11_28/Plate2022_11_28_PW011_Well4_ChannelDAPI,GFP_Seq0000.tif', '/Users/phoebewhite/Library/CloudStorage/GoogleDrive-phwhite@sas.upenn.edu/.shortcut-targets-by-id/12tKUWWdMW6Is2j_X0QWarfY8tIR_UEj9/White_Shared/cloud/experiment_ids/pw011/converted/2022_11_21/Plate2022_11_21_Well4_10x_Well4_ChannelDAPI,GFP_Seq0000.tif', '/Users/phoebewhite/Library/CloudStorage/GoogleDrive-phwhite@sas.upenn.edu/.shortcut-targets-by-id/12tKUWWdMW6Is2j_X0QWarfY8tIR_UEj9/White_Shared/cloud/experiment_ids/pw011/converted/2022_12_12/Plate2022_12_12_pw011_Well4_ChannelDAPI,GFP_Seq0000.tif']\n",
      "5\n",
      "['/Users/phoebewhite/Library/CloudStorage/GoogleDrive-phwhite@sas.upenn.edu/.shortcut-targets-by-id/12tKUWWdMW6Is2j_X0QWarfY8tIR_UEj9/White_Shared/cloud/experiment_ids/pw011/converted/2022_12_05/Plate2022_12_05_PW011_10x_Well5_ChannelDAPI,GFP_Seq0000.tif', '/Users/phoebewhite/Library/CloudStorage/GoogleDrive-phwhite@sas.upenn.edu/.shortcut-targets-by-id/12tKUWWdMW6Is2j_X0QWarfY8tIR_UEj9/White_Shared/cloud/experiment_ids/pw011/converted/2022_11_17/Plate2022_11_17_Well5_10x_Well5_ChannelDAPI,GFP_Seq0000.tif', '/Users/phoebewhite/Library/CloudStorage/GoogleDrive-phwhite@sas.upenn.edu/.shortcut-targets-by-id/12tKUWWdMW6Is2j_X0QWarfY8tIR_UEj9/White_Shared/cloud/experiment_ids/pw011/converted/2022_11_28/Plate2022_11_28_PW011_Well5_ChannelDAPI,GFP_Seq0000.tif', '/Users/phoebewhite/Library/CloudStorage/GoogleDrive-phwhite@sas.upenn.edu/.shortcut-targets-by-id/12tKUWWdMW6Is2j_X0QWarfY8tIR_UEj9/White_Shared/cloud/experiment_ids/pw011/converted/2022_11_21/Plate2022_11_21_Well5_10x_Well5_ChannelDAPI,GFP_Seq0000.tif', '/Users/phoebewhite/Library/CloudStorage/GoogleDrive-phwhite@sas.upenn.edu/.shortcut-targets-by-id/12tKUWWdMW6Is2j_X0QWarfY8tIR_UEj9/White_Shared/cloud/experiment_ids/pw011/converted/2022_12_12/Plate2022_12_12_pw011_Well5_ChannelDAPI,GFP_Seq0000.tif']\n",
      "6\n",
      "['/Users/phoebewhite/Library/CloudStorage/GoogleDrive-phwhite@sas.upenn.edu/.shortcut-targets-by-id/12tKUWWdMW6Is2j_X0QWarfY8tIR_UEj9/White_Shared/cloud/experiment_ids/pw011/converted/2022_12_05/Plate2022_12_05_PW011_10x_Well6_ChannelDAPI,GFP_Seq0000.tif', '/Users/phoebewhite/Library/CloudStorage/GoogleDrive-phwhite@sas.upenn.edu/.shortcut-targets-by-id/12tKUWWdMW6Is2j_X0QWarfY8tIR_UEj9/White_Shared/cloud/experiment_ids/pw011/converted/2022_11_17/Plate2022_11_17_Well6_10x_Well6_ChannelDAPI,GFP_Seq0000.tif', '/Users/phoebewhite/Library/CloudStorage/GoogleDrive-phwhite@sas.upenn.edu/.shortcut-targets-by-id/12tKUWWdMW6Is2j_X0QWarfY8tIR_UEj9/White_Shared/cloud/experiment_ids/pw011/converted/2022_11_28/Plate2022_11_28_PW011_Well6_ChannelDAPI,GFP_Seq0000.tif', '/Users/phoebewhite/Library/CloudStorage/GoogleDrive-phwhite@sas.upenn.edu/.shortcut-targets-by-id/12tKUWWdMW6Is2j_X0QWarfY8tIR_UEj9/White_Shared/cloud/experiment_ids/pw011/converted/2022_11_21/Plate2022_11_21_Well6_10x_Well6_ChannelDAPI,GFP_Seq0000.tif', '/Users/phoebewhite/Library/CloudStorage/GoogleDrive-phwhite@sas.upenn.edu/.shortcut-targets-by-id/12tKUWWdMW6Is2j_X0QWarfY8tIR_UEj9/White_Shared/cloud/experiment_ids/pw011/converted/2022_12_12/Plate2022_12_12_pw011_Well6_ChannelDAPI,GFP_Seq0000.tif']\n"
     ]
    }
   ],
   "source": [
    "# Group paths to different wells\n",
    "test = glob.glob('/Users/phoebewhite/Library/CloudStorage/GoogleDrive-phwhite@sas.upenn.edu/.shortcut-targets-by-id/12tKUWWdMW6Is2j_X0QWarfY8tIR_UEj9/White_Shared/cloud/experiment_ids/pw011/converted/*/*.tif')\n",
    "\n",
    "well_paths = list()\n",
    "for i in range(1,7):\n",
    "    found = []\n",
    "    print(i)\n",
    "    for name in test:\n",
    "        if ('Well' + str(i)) in name and 'blank' not in name:\n",
    "           found.append(name)\n",
    "    print(found)\n",
    "    well_paths.append(found)\n",
    "\n"
   ]
  },
  {
   "cell_type": "code",
   "execution_count": null,
   "id": "6bd8bc19",
   "metadata": {},
   "outputs": [],
   "source": [
    "#for i in well paths glob.glob ...\n",
    "#step by step and save multiple outputs\n",
    "#parent folder\n",
    "    #well1\n",
    "        #divided\n",
    "        #reload dividid --> threshold"
   ]
  },
  {
   "cell_type": "code",
   "execution_count": null,
   "id": "4f97d364",
   "metadata": {},
   "outputs": [
    {
     "name": "stdout",
     "output_type": "stream",
     "text": [
      "Plate2022_12_05_PW011_10x_Well1_ChannelDAPI\n"
     ]
    }
   ],
   "source": [
    "\n",
    "for i in range(1,len(well_paths)+1):\n",
    "    if not os.path.exists('Well'+str(i)):\n",
    "        os.mkdir('Well'+str(i))\n",
    "    if not os.path.exists('Well'+str(i)+'/divided'):\n",
    "        os.mkdir('Well'+str(i)+'/divided')\n",
    "\n",
    "    for file in well_paths[i-1]:\n",
    "        imname = file.split('/')[-1][:-16]\n",
    "        print(imname)\n",
    "        \n",
    "        im = Image.open(file)\n",
    "        for i, page in enumerate(ImageSequence.Iterator(im)):\n",
    "            if i == 1:\n",
    "                image = np.asarray(page)\n",
    "\n",
    "        #image = io.imread(file)\n",
    "        \n",
    "        div_im = image/(blank_ave+1)\n",
    "        \n",
    "        plt.imsave('Well' + str(i) + '/divided/' + imname + '.tiff', div_im)\n",
    "\n",
    "\n",
    "        "
   ]
  },
  {
   "cell_type": "code",
   "execution_count": 57,
   "id": "ab231fee",
   "metadata": {},
   "outputs": [
    {
     "data": {
      "text/plain": [
       "'Plate2022_12_05_PW011_10x_Well1_ChannelDAPI,GFP_Seq0000'"
      ]
     },
     "execution_count": 57,
     "metadata": {},
     "output_type": "execute_result"
    }
   ],
   "source": [
    "imname\n"
   ]
  },
  {
   "cell_type": "code",
   "execution_count": null,
   "id": "b20c6ffb",
   "metadata": {},
   "outputs": [],
   "source": []
  }
 ],
 "metadata": {
  "kernelspec": {
   "display_name": "Python 3 (ipykernel)",
   "language": "python",
   "name": "python3"
  },
  "language_info": {
   "codemirror_mode": {
    "name": "ipython",
    "version": 3
   },
   "file_extension": ".py",
   "mimetype": "text/x-python",
   "name": "python",
   "nbconvert_exporter": "python",
   "pygments_lexer": "ipython3",
   "version": "3.10.8"
  }
 },
 "nbformat": 4,
 "nbformat_minor": 5
}
