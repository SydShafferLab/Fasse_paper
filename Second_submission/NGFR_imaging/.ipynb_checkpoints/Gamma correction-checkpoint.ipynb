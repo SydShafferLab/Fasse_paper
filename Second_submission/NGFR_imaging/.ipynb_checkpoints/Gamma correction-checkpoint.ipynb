{
 "cells": [
  {
   "cell_type": "code",
   "execution_count": 17,
   "id": "04b448bc",
   "metadata": {},
   "outputs": [],
   "source": [
    "from PIL import Image, ImageDraw, ImageSequence\n",
    "import numpy as np\n",
    "import matplotlib.pyplot as plt\n",
    "import matplotlib.image as mpimg\n",
    "import glob as glob\n",
    "import os\n",
    "import pandas as pd\n",
    "from skimage import io, filters, morphology\n",
    "import cv2\n",
    "from scipy import ndimage as ndi\n",
    "import argparse\n",
    "from __future__ import print_function\n",
    "%matplotlib inline\n",
    "Image.MAX_IMAGE_PIXELS = None"
   ]
  },
  {
   "cell_type": "code",
   "execution_count": 18,
   "id": "bacc8d3f",
   "metadata": {},
   "outputs": [],
   "source": [
    "def adjust_gamma(image, gamma=1.0):\n",
    "\t# build a lookup table mapping the pixel values [0, 255] to\n",
    "\t# their adjusted gamma values\n",
    "\tinvGamma = 1.0 / gamma\n",
    "\ttable = np.array([((i / 255.0) ** invGamma) * 255\n",
    "\t\tfor i in np.arange(0, 256)]).astype(\"uint8\")\n",
    "\t# apply gamma correction using the lookup table\n",
    "\treturn cv2.LUT(image, table)"
   ]
  },
  {
   "cell_type": "code",
   "execution_count": null,
   "id": "b7635f0b",
   "metadata": {},
   "outputs": [],
   "source": [
    "file = ('/Volumes/GoogleDrive/.shortcut-targets-by-id/1zSqx3IzXMwt6clUjwyqmlOf4G1K53lvy/Fasse_Shared/AJF_Drive_copy/Experiments/AJF009/2022_01_14_analysis_scripts/2022_05_27_analysis/NGFR_imaging/Well1/subtracted/Plate2022_11_21_Well1_10x_Well1_ChannelDAPI.tiff')\n",
    "\n",
    "fig = plt.figure(figsize=(30, 30), dpi=300)\n",
    "ax = fig.add_subplot(2, 2, 1)\n",
    "\n",
    "im = Image.open(file)\n",
    "image = np.asarray(im)\n",
    "imgplot = plt.imshow(image)\n",
    "\n",
    "im_scaled = cv2.normalize(image, dst = None, alpha = 50, beta = 100, norm_type=cv2.NORM_MINMAX)\n",
    "ax = fig.add_subplot(2,2,2)\n",
    "imgplot = plt.imshow(im_scaled)"
   ]
  },
  {
   "cell_type": "code",
   "execution_count": 26,
   "id": "ac9d13ca",
   "metadata": {},
   "outputs": [
    {
     "data": {
      "text/plain": [
       "array([[[165, 147, 201, 255],\n",
       "        [165, 147, 201, 255],\n",
       "        [165, 147, 201, 255],\n",
       "        ...,\n",
       "        [165, 147, 201, 255],\n",
       "        [165, 147, 201, 255],\n",
       "        [165, 147, 201, 255]],\n",
       "\n",
       "       [[165, 147, 201, 255],\n",
       "        [165, 147, 201, 255],\n",
       "        [165, 147, 201, 255],\n",
       "        ...,\n",
       "        [165, 147, 201, 255],\n",
       "        [165, 147, 201, 255],\n",
       "        [165, 147, 201, 255]],\n",
       "\n",
       "       [[165, 147, 201, 255],\n",
       "        [165, 147, 201, 255],\n",
       "        [165, 147, 201, 255],\n",
       "        ...,\n",
       "        [165, 147, 201, 255],\n",
       "        [165, 147, 201, 255],\n",
       "        [165, 147, 201, 255]],\n",
       "\n",
       "       ...,\n",
       "\n",
       "       [[165, 147, 201, 255],\n",
       "        [165, 147, 201, 255],\n",
       "        [165, 147, 201, 255],\n",
       "        ...,\n",
       "        [165, 147, 201, 255],\n",
       "        [165, 147, 201, 255],\n",
       "        [165, 147, 201, 255]],\n",
       "\n",
       "       [[165, 147, 201, 255],\n",
       "        [165, 147, 201, 255],\n",
       "        [165, 147, 201, 255],\n",
       "        ...,\n",
       "        [165, 147, 201, 255],\n",
       "        [165, 147, 201, 255],\n",
       "        [165, 147, 201, 255]],\n",
       "\n",
       "       [[165, 147, 201, 255],\n",
       "        [165, 147, 201, 255],\n",
       "        [165, 147, 201, 255],\n",
       "        ...,\n",
       "        [165, 147, 201, 255],\n",
       "        [165, 147, 201, 255],\n",
       "        [165, 147, 201, 255]]], dtype=uint8)"
      ]
     },
     "execution_count": 26,
     "metadata": {},
     "output_type": "execute_result"
    }
   ],
   "source": [
    "adjusted"
   ]
  },
  {
   "cell_type": "code",
   "execution_count": 30,
   "id": "4c9b20aa",
   "metadata": {},
   "outputs": [
    {
     "data": {
      "text/plain": [
       "PIL.TiffImagePlugin.TiffImageFile"
      ]
     },
     "execution_count": 30,
     "metadata": {},
     "output_type": "execute_result"
    }
   ],
   "source": [
    "type(im)"
   ]
  }
 ],
 "metadata": {
  "kernelspec": {
   "display_name": "CellArea",
   "language": "python",
   "name": "cellarea"
  },
  "language_info": {
   "codemirror_mode": {
    "name": "ipython",
    "version": 3
   },
   "file_extension": ".py",
   "mimetype": "text/x-python",
   "name": "python",
   "nbconvert_exporter": "python",
   "pygments_lexer": "ipython3",
   "version": "3.10.4"
  }
 },
 "nbformat": 4,
 "nbformat_minor": 5
}
